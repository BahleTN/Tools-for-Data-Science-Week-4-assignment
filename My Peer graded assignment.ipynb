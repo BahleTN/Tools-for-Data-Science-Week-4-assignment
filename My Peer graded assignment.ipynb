{
 "cells": [
  {
   "cell_type": "markdown",
   "id": "fb0f9a29",
   "metadata": {},
   "source": [
    "# My Jupyter Notebook on IBM Watson Studio"
   ]
  },
  {
   "cell_type": "markdown",
   "id": "55381744",
   "metadata": {},
   "source": [
    "**Bahle Thoba Ngcobo**  \n",
    " Occupation: Principal Industrial Engineer"
   ]
  },
  {
   "cell_type": "markdown",
   "id": "95f4298c",
   "metadata": {},
   "source": [
    "*I am interested in Data Science because I want to contribute towards solving problems by  \n",
    "uncovering the underlying trends within the vast amounts of data that is generated daily.*"
   ]
  },
  {
   "cell_type": "markdown",
   "id": "60b0bccd",
   "metadata": {},
   "source": [
    "### This code will print the words \"Hello\" and \"World\" on separate lines"
   ]
  },
  {
   "cell_type": "code",
   "execution_count": 2,
   "id": "441f10f1",
   "metadata": {},
   "outputs": [
    {
     "name": "stdout",
     "output_type": "stream",
     "text": [
      "Hello \n",
      "World\n"
     ]
    }
   ],
   "source": [
    "print(\"Hello \\nWorld\")"
   ]
  },
  {
   "cell_type": "markdown",
   "id": "95ca1185",
   "metadata": {},
   "source": [
    "This is the horizontale rule using 3 underscores\n",
    "___  \n",
    "\n",
    "+ This \n",
    "+ bulleted\n",
    "+ list\n",
    "+ is short  \n",
    "\n",
    "1. This\n",
    "2. numbered\n",
    "3. list \n",
    "4. is \n",
    "5. a \n",
    "6. little\n",
    "7. longer  \n",
    "\n",
    "This | table | setup | was\n",
    "---| ---| ---| ---\n",
    "a | little| tricky| but\n",
    "I | got| it | done  \n",
    "\n",
    "My 3yr old son loves this https://www.youtube.com/watch?v=fn3KWM1kuAw  \n",
    "\n"
   ]
  },
  {
   "cell_type": "code",
   "execution_count": null,
   "id": "ad4101c9",
   "metadata": {},
   "outputs": [],
   "source": []
  }
 ],
 "metadata": {
  "kernelspec": {
   "display_name": "Python 3 (ipykernel)",
   "language": "python",
   "name": "python3"
  },
  "language_info": {
   "codemirror_mode": {
    "name": "ipython",
    "version": 3
   },
   "file_extension": ".py",
   "mimetype": "text/x-python",
   "name": "python",
   "nbconvert_exporter": "python",
   "pygments_lexer": "ipython3",
   "version": "3.9.13"
  }
 },
 "nbformat": 4,
 "nbformat_minor": 5
}
